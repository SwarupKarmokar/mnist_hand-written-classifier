{
 "cells": [
  {
   "cell_type": "code",
   "execution_count": 1,
   "metadata": {},
   "outputs": [],
   "source": [
    "import matplotlib.pyplot as plt"
   ]
  },
  {
   "cell_type": "code",
   "execution_count": 2,
   "metadata": {},
   "outputs": [],
   "source": [
    "import tensorflow as tf"
   ]
  },
  {
   "cell_type": "code",
   "execution_count": 3,
   "metadata": {},
   "outputs": [],
   "source": [
    "mnist = tf.keras.datasets.mnist"
   ]
  },
  {
   "cell_type": "code",
   "execution_count": 4,
   "metadata": {},
   "outputs": [],
   "source": [
    "(X_train, y_train), (X_test, y_test) = mnist.load_data()"
   ]
  },
  {
   "cell_type": "code",
   "execution_count": 5,
   "metadata": {},
   "outputs": [],
   "source": [
    "X_train = tf.keras.utils.normalize(X_train, axis=1)\n",
    "X_test = tf.keras.utils.normalize(X_test, axis=1)"
   ]
  },
  {
   "cell_type": "code",
   "execution_count": 6,
   "metadata": {},
   "outputs": [],
   "source": [
    "from tensorflow.keras.models import Sequential\n",
    "from tensorflow.keras.layers import Dense, Flatten, Dropout"
   ]
  },
  {
   "cell_type": "code",
   "execution_count": 7,
   "metadata": {},
   "outputs": [
    {
     "data": {
      "text/plain": [
       "(60000, 28, 28)"
      ]
     },
     "execution_count": 7,
     "metadata": {},
     "output_type": "execute_result"
    }
   ],
   "source": [
    "X_train.shape"
   ]
  },
  {
   "cell_type": "code",
   "execution_count": 8,
   "metadata": {},
   "outputs": [],
   "source": [
    "my_model = Sequential()\n",
    "\n",
    "my_model.add(Flatten())\n",
    "my_model.add(Dense(32,activation='relu'))\n",
    "my_model.add(Dense(32,activation='relu'))\n",
    "my_model.add(Dense(10, activation='softmax'))\n",
    "\n",
    "my_model.compile(optimizer = 'adam', loss= 'sparse_categorical_crossentropy', metrics = ['accuracy'])"
   ]
  },
  {
   "cell_type": "code",
   "execution_count": 11,
   "metadata": {},
   "outputs": [
    {
     "name": "stdout",
     "output_type": "stream",
     "text": [
      "Train on 60000 samples\n",
      "Epoch 1/20\n",
      "60000/60000 [==============================] - 4s 69us/sample - loss: 0.0175 - accuracy: 0.9940\n",
      "Epoch 2/20\n",
      "60000/60000 [==============================] - 4s 68us/sample - loss: 0.0165 - accuracy: 0.9946\n",
      "Epoch 3/20\n",
      "60000/60000 [==============================] - 4s 69us/sample - loss: 0.0148 - accuracy: 0.9952\n",
      "Epoch 4/20\n",
      "60000/60000 [==============================] - 4s 69us/sample - loss: 0.0148 - accuracy: 0.9949\n",
      "Epoch 5/20\n",
      "60000/60000 [==============================] - 4s 69us/sample - loss: 0.0139 - accuracy: 0.9952\n",
      "Epoch 6/20\n",
      "60000/60000 [==============================] - 4s 69us/sample - loss: 0.0130 - accuracy: 0.9952\n",
      "Epoch 7/20\n",
      "60000/60000 [==============================] - 4s 73us/sample - loss: 0.0134 - accuracy: 0.9954\n",
      "Epoch 8/20\n",
      "60000/60000 [==============================] - 4s 70us/sample - loss: 0.0120 - accuracy: 0.9958\n",
      "Epoch 9/20\n",
      "60000/60000 [==============================] - 4s 70us/sample - loss: 0.0117 - accuracy: 0.9959\n",
      "Epoch 10/20\n",
      "60000/60000 [==============================] - 4s 70us/sample - loss: 0.0109 - accuracy: 0.9963\n",
      "Epoch 11/20\n",
      "60000/60000 [==============================] - 4s 72us/sample - loss: 0.0099 - accuracy: 0.9964\n",
      "Epoch 12/20\n",
      "60000/60000 [==============================] - 4s 70us/sample - loss: 0.0119 - accuracy: 0.9956\n",
      "Epoch 13/20\n",
      "60000/60000 [==============================] - 4s 72us/sample - loss: 0.0091 - accuracy: 0.9968\n",
      "Epoch 14/20\n",
      "60000/60000 [==============================] - 4s 71us/sample - loss: 0.0095 - accuracy: 0.9968\n",
      "Epoch 15/20\n",
      "60000/60000 [==============================] - 4s 71us/sample - loss: 0.0084 - accuracy: 0.9970\n",
      "Epoch 16/20\n",
      "60000/60000 [==============================] - 4s 72us/sample - loss: 0.0097 - accuracy: 0.9968\n",
      "Epoch 17/20\n",
      "60000/60000 [==============================] - 4s 70us/sample - loss: 0.0091 - accuracy: 0.9966\n",
      "Epoch 18/20\n",
      "60000/60000 [==============================] - 4s 71us/sample - loss: 0.0089 - accuracy: 0.9970\n",
      "Epoch 19/20\n",
      "60000/60000 [==============================] - 4s 74us/sample - loss: 0.0084 - accuracy: 0.9973\n",
      "Epoch 20/20\n",
      "60000/60000 [==============================] - 4s 73us/sample - loss: 0.0081 - accuracy: 0.9973\n"
     ]
    },
    {
     "data": {
      "text/plain": [
       "<tensorflow.python.keras.callbacks.History at 0x15c20627b08>"
      ]
     },
     "execution_count": 11,
     "metadata": {},
     "output_type": "execute_result"
    }
   ],
   "source": [
    "my_model.fit(X_train, y_train, epochs = 20)"
   ]
  },
  {
   "cell_type": "code",
   "execution_count": 12,
   "metadata": {},
   "outputs": [],
   "source": [
    "prediction = my_model.predict(X_test)"
   ]
  },
  {
   "cell_type": "code",
   "execution_count": 16,
   "metadata": {},
   "outputs": [
    {
     "name": "stdout",
     "output_type": "stream",
     "text": [
      "10000/10000 [==============================] - 1s 62us/sample - loss: 0.2557 - accuracy: 0.9656\n"
     ]
    },
    {
     "data": {
      "text/plain": [
       "[0.2557096986256248, 0.9656]"
      ]
     },
     "execution_count": 16,
     "metadata": {},
     "output_type": "execute_result"
    }
   ],
   "source": [
    "my_model.evaluate(X_test, y_test)"
   ]
  },
  {
   "cell_type": "code",
   "execution_count": 17,
   "metadata": {},
   "outputs": [
    {
     "name": "stdout",
     "output_type": "stream",
     "text": [
      "[[1.6587438e-17 2.7915404e-20 2.0196415e-13 ... 1.0000000e+00\n",
      "  1.8381442e-16 8.6381615e-21]\n",
      " [1.6394729e-27 4.5921245e-09 1.0000000e+00 ... 4.2768818e-30\n",
      "  3.0882768e-22 0.0000000e+00]\n",
      " [2.8488670e-21 9.9999988e-01 1.6034269e-11 ... 6.0939144e-08\n",
      "  2.2067750e-08 4.0532671e-14]\n",
      " ...\n",
      " [1.8081509e-29 6.1297948e-20 8.6785599e-20 ... 3.3314666e-12\n",
      "  7.4594905e-15 6.8527940e-14]\n",
      " [2.8233271e-34 4.8310463e-20 2.3457351e-25 ... 7.0557038e-19\n",
      "  7.4199619e-10 1.5699610e-28]\n",
      " [2.5515129e-17 1.4569739e-23 7.5387940e-21 ... 1.1193233e-30\n",
      "  6.1270808e-28 3.4307607e-27]]\n"
     ]
    }
   ],
   "source": [
    "print(prediction)"
   ]
  },
  {
   "cell_type": "code",
   "execution_count": 18,
   "metadata": {},
   "outputs": [],
   "source": [
    "import numpy as np"
   ]
  },
  {
   "cell_type": "code",
   "execution_count": 19,
   "metadata": {},
   "outputs": [
    {
     "name": "stdout",
     "output_type": "stream",
     "text": [
      "7\n"
     ]
    }
   ],
   "source": [
    "print(np.argmax(prediction[0]))"
   ]
  },
  {
   "cell_type": "code",
   "execution_count": 20,
   "metadata": {},
   "outputs": [
    {
     "data": {
      "text/plain": [
       "<matplotlib.image.AxesImage at 0x15c3d496e48>"
      ]
     },
     "execution_count": 20,
     "metadata": {},
     "output_type": "execute_result"
    },
    {
     "data": {
      "image/png": "[encoded data removed]",
      "text/plain": [
       "<Figure size 432x288 with 1 Axes>"
      ]
     },
     "metadata": {
      "needs_background": "light"
     },
     "output_type": "display_data"
    }
   ],
   "source": [
    "plt.imshow(X_test[0])"
   ]
  },
  {
   "cell_type": "code",
   "execution_count": 37,
   "metadata": {},
   "outputs": [
    {
     "name": "stdout",
     "output_type": "stream",
     "text": [
      "3\n"
     ]
    }
   ],
   "source": [
    "print(np.argmax(prediction[505]))"
   ]
  },
  {
   "cell_type": "code",
   "execution_count": 36,
   "metadata": {},
   "outputs": [
    {
     "data": {
      "text/plain": [
       "<matplotlib.image.AxesImage at 0x15c3da58e88>"
      ]
     },
     "execution_count": 36,
     "metadata": {},
     "output_type": "execute_result"
    },
    {
     "data": {
      "image/png": "[encoded data removed]",
      "text/plain": [
       "<Figure size 432x288 with 1 Axes>"
      ]
     },
     "metadata": {
      "needs_background": "light"
     },
     "output_type": "display_data"
    }
   ],
   "source": [
    "plt.imshow(X_test[505])"
   ]
  },
  {
   "cell_type": "code",
   "execution_count": null,
   "metadata": {},
   "outputs": [],
   "source": []
  }
 ],
 "metadata": {
  "kernelspec": {
   "display_name": "Python 3",
   "language": "python",
   "name": "python3"
  },
  "language_info": {
   "codemirror_mode": {
    "name": "ipython",
    "version": 3
   },
   "file_extension": ".py",
   "mimetype": "text/x-python",
   "name": "python",
   "nbconvert_exporter": "python",
   "pygments_lexer": "ipython3",
   "version": "3.7.7"
  }
 },
 "nbformat": 4,
 "nbformat_minor": 4
}
